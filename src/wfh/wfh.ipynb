{
 "cells": [
  {
   "cell_type": "code",
   "execution_count": 1,
   "metadata": {},
   "outputs": [],
   "source": [
    "import pandas as pd\n",
    "import matplotlib.pyplot as plt\n",
    "import seaborn as sns\n",
    "\n",
    "sns.set_style('whitegrid')\n",
    "plt.style.use('seaborn-talk')"
   ]
  },
  {
   "cell_type": "code",
   "execution_count": 2,
   "metadata": {},
   "outputs": [],
   "source": [
    "def custom_sort(df, sort_list, var='GROUP'):\n",
    "    order = {n:i for i, n in enumerate(sort_list)}\n",
    "    df['order'] = df[var].map(order)\n",
    "    df.sort_values('order', inplace=True)\n",
    "    return df.drop(columns=['order'])\n",
    "\n",
    "\n",
    "def proportion(df, var='WRKHOMEABLE', groupby_var=None):\n",
    "    if groupby_var:\n",
    "        return df.groupby(groupby_var)['LVWT'].sum() / df.groupby(groupby_var)['LVWT'].sum().sum()\n",
    "    return ((df[var] * df['LVWT'])).sum() / df['LVWT'].sum()\n",
    "\n",
    "def comparison(groupby_var, borough=False, palette1='Greys', palette2='YlGnBu', save=None):\n",
    "    all_others = atus_all.groupby(groupby_var).apply(proportion)\n",
    "\n",
    "    if borough:\n",
    "        nyc_add = atus_nyc.groupby('COUNTY_NAME').apply(proportion)\n",
    "    else:\n",
    "        nyc_add = pd.Series([proportion(atus_nyc)], index=['NYC'])\n",
    "    combined = pd.concat([all_others, nyc_add]).reset_index()\n",
    "    combined.columns = ['GROUP', 'PCT_WFH']\n",
    "    combined['COLOR'] = 'gray'\n",
    "    combined.loc[combined['GROUP'].isin(all_others.index), 'COLOR'] = sns.color_palette(palette1, n_colors=len(all_others)).as_hex()\n",
    "    combined.loc[combined['GROUP'].isin(nyc_add.index), 'COLOR'] = sns.color_palette(palette2, n_colors=len(nyc_add)).as_hex()\n",
    "    if save:\n",
    "        combined.to_csv(f'../../data/wfh/{save}.csv', index=False)\n",
    "    return combined\n",
    "    \n",
    "def split_both(groupby_var, save=None, sort=None):\n",
    "    df = pd.DataFrame(data={'USA': atus_all.groupby(groupby_var).apply(proportion),\n",
    "                            'NYC': atus_nyc.groupby(groupby_var).apply(proportion)})\n",
    "    df.index.name = 'GROUP'\n",
    "    df = pd.melt(df.reset_index(), id_vars=['GROUP'], value_vars=['USA', 'NYC'],\n",
    "                 var_name='AREA', value_name='PCT_WFH').sort_values('GROUP')\n",
    "    if sort:\n",
    "        df = custom_sort(df, sort)\n",
    "    if save:\n",
    "        df.to_csv(f'../../data/wfh/{save}.csv', index=True)\n",
    "    return df\n",
    "\n",
    "def barplot(df):\n",
    "    sns.barplot(x=df['PCT_WFH'], y=df['GROUP'], palette=df['COLOR'], orient='h')#series.index.map(colors).fillna('lightgray'))\n",
    "    plt.xlabel('')\n",
    "    plt.ylabel('%')\n",
    "    plt.show()"
   ]
  },
  {
   "cell_type": "code",
   "execution_count": 3,
   "metadata": {},
   "outputs": [],
   "source": [
    "var ='WRKHOMEABLE'  ## other alternatives include 'WRKHOMEEV', 'WRKHOMEPD', 'WRKHOMEOFTEN'\n",
    "\n",
    "colors = {'Manhattan':'#74a9cf', 'Brooklyn':'#a6bddb', 'Queens':'#2b8cbe' , 'Bronx':'#d0d1e6', 'Staten Island':'#045a8d'}\n",
    "\n",
    "highlighted_regions = {'36061':'Manhattan', \n",
    "                       '36047':'Brooklyn', \n",
    "                       '36081':'Queens' , \n",
    "                       '36005':'Bronx', \n",
    "                       '36085':'Staten Island'}"
   ]
  },
  {
   "cell_type": "code",
   "execution_count": 4,
   "metadata": {},
   "outputs": [],
   "source": [
    "atus = pd.read_csv('../../data/wfh/atus_00005.csv.gz', \n",
    "                 dtype={'REGION':str, 'STATEFIP':str,  'METAREA':str, 'COUNTY':str})\n",
    "atus['COUNTY'] = atus['COUNTY'].str.zfill(5)\n",
    "atus['COUNTY_NAME'] = atus['COUNTY'].map(highlighted_regions).fillna('All Others')\n",
    "atus['IS_NYC'] = atus['COUNTY'].isin(highlighted_regions)\n",
    "atus = atus.query(f'{var} == 0 or {var} == 1')"
   ]
  },
  {
   "cell_type": "markdown",
   "metadata": {},
   "source": [
    "### Add labels based on coded variables in IPUMS data. \n",
    "See more information here: "
   ]
  },
  {
   "cell_type": "code",
   "execution_count": 5,
   "metadata": {},
   "outputs": [],
   "source": [
    "## Metro labels\n",
    "\n",
    "metro_labels = {1:'Metropolitan central',\n",
    "                2: 'Metropolitan noncentral',\n",
    "                4: 'Rural'}\n",
    "\n",
    "atus['metro'] = atus['METRO'].map(metro_labels)"
   ]
  },
  {
   "cell_type": "code",
   "execution_count": 6,
   "metadata": {},
   "outputs": [],
   "source": [
    "## Metropolitan size\n",
    "msize_labels = {2: 'A: 100,000 - 249,999',\n",
    "                3: 'B: 250,000 - 499,999',\n",
    "                4: 'C: 500,000 - 999,999',\n",
    "                5: 'D: 1,000,000 - 2,499,999',\n",
    "                6: 'E: 2,500,000 - 4,999,999',\n",
    "                7: 'F: 5,000,000 +'}\n",
    "\n",
    "atus['metro_size'] = atus['MSASIZE'].map(msize_labels)"
   ]
  },
  {
   "cell_type": "code",
   "execution_count": 7,
   "metadata": {},
   "outputs": [],
   "source": [
    "## Age bins\n",
    "age_lbin = [10, 20, 30, 40, 50, 60, 70]\n",
    "age_lbin_labels = [f'{str(lower)} to {str(age_lbin[i+1])}'.replace('60 to 70', '60 and above') \n",
    "                   for i, lower in enumerate(age_lbin[:-1])]\n",
    "\n",
    "atus['Age'] = pd.cut(atus.AGE, bins=age_lbin, labels=age_lbin_labels)"
   ]
  },
  {
   "cell_type": "code",
   "execution_count": 8,
   "metadata": {},
   "outputs": [],
   "source": [
    "## Race + Ethnicity\n",
    "\n",
    "race_lab = {'100': 'White',\n",
    "            '110': 'Black',\n",
    "            # '120': 'Other',\n",
    "            '130': 'Asian',\n",
    "            '131': 'Asian'}\n",
    "            # '132': 'Other',\n",
    "            # '200': 'Other',\n",
    "            # '201': 'Other',\n",
    "            # '202': 'Other',\n",
    "            # '203': 'Other',\n",
    "            # '210': 'Other',\n",
    "            # '211': 'Other',\n",
    "            # '212': 'Other',\n",
    "            # '220': 'Other',\n",
    "            # '221': 'Other',\n",
    "            # '230': 'Other',\n",
    "            # '300': 'Other',\n",
    "            # '301': 'Other',\n",
    "            # '302': 'Other',\n",
    "            # '310': 'Other',\n",
    "            # '311': 'Other',\n",
    "            # '320': 'Other',\n",
    "            # '330': 'Other'}\n",
    "\n",
    "atus['Race/Ethnicity'] = atus['RACE'].astype(str).map(race_lab)\n",
    "# atus.loc[(atus['RACE_G']==\"Asian\") & (atus['ASIAN'] == 10), 'RACE_G'] = \"South Asian\"\n",
    "# atus.loc[(atus['RACE_G']==\"Asian\"), 'RACE_G'] = \"East/Southeast Asian\"\n",
    "atus['HISPANIC'] = atus['HISPAN'].map({100:False}).fillna(True)\n",
    "atus.loc[(atus['Race/Ethnicity']==\"White\") & (atus['HISPANIC'] == True), 'Race/Ethnicity'] = \"Hispanic\"\n"
   ]
  },
  {
   "cell_type": "code",
   "execution_count": 9,
   "metadata": {},
   "outputs": [],
   "source": [
    "## Citizenship status\n",
    "citizenlabel = {1:'Native citizen',\n",
    "                2:'Native citizen',\n",
    "                3:'Native citizen',\n",
    "                4:'Foreign-born citizen',\n",
    "                5:'Non-citizen'}\n",
    "\n",
    "atus['Citizenship'] = atus['CITIZEN'].map(citizenlabel)"
   ]
  },
  {
   "cell_type": "code",
   "execution_count": 10,
   "metadata": {},
   "outputs": [],
   "source": [
    "## Sex\n",
    "age_lab = {1: 'Male',\n",
    "           2: 'Female'}\n",
    "atus['Sex'] = atus['SEX'].map(age_lab)\n"
   ]
  },
  {
   "cell_type": "code",
   "execution_count": 11,
   "metadata": {},
   "outputs": [],
   "source": [
    "## Education level\n",
    "edu_label = {40:\"D: Four year college\",\n",
    "             21:\"B: High school graduate\",\n",
    "             20:\"B: High school graduate\",\n",
    "             30:\"C: Two year college\",\n",
    "             31:\"C: Two year college\",\n",
    "             32:\"C: Two year college\",\n",
    "             41:\"E: Postgraduate degree\",\n",
    "             42:\"E: Postgraduate degree\",\n",
    "             43:\"E: Postgraduate degree\"}\n",
    "for val in range(10, 17):\n",
    "    edu_label[val] = \"A: Less than HS\"\n",
    "\n",
    "atus['Education'] = atus['EDUC'].map(edu_label)"
   ]
  },
  {
   "cell_type": "markdown",
   "metadata": {},
   "source": [
    "### Split data into NYC and non-NYC"
   ]
  },
  {
   "cell_type": "code",
   "execution_count": 12,
   "metadata": {},
   "outputs": [],
   "source": [
    "atus_all = atus.query('~IS_NYC').copy()\n",
    "atus_nyc = atus.query('IS_NYC').copy()"
   ]
  },
  {
   "cell_type": "code",
   "execution_count": 13,
   "metadata": {},
   "outputs": [],
   "source": [
    "sort = {'Age':None, \n",
    "        'Race/Ethnicity':['Asian', 'Black', 'Hispanic', 'White', 'Other'],\n",
    "        'Citizenship':['Native citizen', 'Foreign-born citizen', 'Non-citizen'],\n",
    "        'Sex':None,\n",
    "        'Education':None}\n",
    "\n"
   ]
  },
  {
   "cell_type": "code",
   "execution_count": 14,
   "metadata": {},
   "outputs": [
    {
     "data": {
      "text/html": [
       "<div>\n",
       "<style scoped>\n",
       "    .dataframe tbody tr th:only-of-type {\n",
       "        vertical-align: middle;\n",
       "    }\n",
       "\n",
       "    .dataframe tbody tr th {\n",
       "        vertical-align: top;\n",
       "    }\n",
       "\n",
       "    .dataframe thead th {\n",
       "        text-align: right;\n",
       "    }\n",
       "</style>\n",
       "<table border=\"1\" class=\"dataframe\">\n",
       "  <thead>\n",
       "    <tr style=\"text-align: right;\">\n",
       "      <th></th>\n",
       "      <th>GROUP</th>\n",
       "      <th>PCT_WFH</th>\n",
       "      <th>COLOR</th>\n",
       "    </tr>\n",
       "  </thead>\n",
       "  <tbody>\n",
       "    <tr>\n",
       "      <th>0</th>\n",
       "      <td>A: 100,000 - 249,999</td>\n",
       "      <td>0.274283</td>\n",
       "      <td>#ededed</td>\n",
       "    </tr>\n",
       "    <tr>\n",
       "      <th>1</th>\n",
       "      <td>B: 250,000 - 499,999</td>\n",
       "      <td>0.262572</td>\n",
       "      <td>#d1d1d1</td>\n",
       "    </tr>\n",
       "    <tr>\n",
       "      <th>2</th>\n",
       "      <td>C: 500,000 - 999,999</td>\n",
       "      <td>0.289517</td>\n",
       "      <td>#adadad</td>\n",
       "    </tr>\n",
       "    <tr>\n",
       "      <th>3</th>\n",
       "      <td>D: 1,000,000 - 2,499,999</td>\n",
       "      <td>0.311282</td>\n",
       "      <td>#828282</td>\n",
       "    </tr>\n",
       "    <tr>\n",
       "      <th>4</th>\n",
       "      <td>E: 2,500,000 - 4,999,999</td>\n",
       "      <td>0.352707</td>\n",
       "      <td>#5c5c5c</td>\n",
       "    </tr>\n",
       "    <tr>\n",
       "      <th>5</th>\n",
       "      <td>F: 5,000,000 +</td>\n",
       "      <td>0.332219</td>\n",
       "      <td>#2b2b2b</td>\n",
       "    </tr>\n",
       "    <tr>\n",
       "      <th>6</th>\n",
       "      <td>NYC</td>\n",
       "      <td>0.291061</td>\n",
       "      <td>#40b5c4</td>\n",
       "    </tr>\n",
       "  </tbody>\n",
       "</table>\n",
       "</div>"
      ],
      "text/plain": [
       "                      GROUP   PCT_WFH    COLOR\n",
       "0      A: 100,000 - 249,999  0.274283  #ededed\n",
       "1      B: 250,000 - 499,999  0.262572  #d1d1d1\n",
       "2      C: 500,000 - 999,999  0.289517  #adadad\n",
       "3  D: 1,000,000 - 2,499,999  0.311282  #828282\n",
       "4  E: 2,500,000 - 4,999,999  0.352707  #5c5c5c\n",
       "5            F: 5,000,000 +  0.332219  #2b2b2b\n",
       "6                       NYC  0.291061  #40b5c4"
      ]
     },
     "execution_count": 14,
     "metadata": {},
     "output_type": "execute_result"
    }
   ],
   "source": [
    "all_data = []\n",
    "for var in sort:\n",
    "    df = split_both(var, sort=sort[var]).reset_index()\n",
    "    df.insert(0, 'CATEGORY', var)\n",
    "    all_data.append(df)\n",
    "\n",
    "all_data = pd.concat(all_data)\n",
    "all_data.to_csv('../../data/wfh/wfh_percentages.csv', index=False)\n",
    "\n",
    "comparison('metro', borough=True, save=var.lower())\n",
    "comparison('metro_size', borough=False, save=var.lower())"
   ]
  }
 ],
 "metadata": {
  "kernelspec": {
   "display_name": "Python 3",
   "language": "python",
   "name": "python3"
  },
  "language_info": {
   "codemirror_mode": {
    "name": "ipython",
    "version": 3
   },
   "file_extension": ".py",
   "mimetype": "text/x-python",
   "name": "python",
   "nbconvert_exporter": "python",
   "pygments_lexer": "ipython3",
   "version": "3.7.4"
  }
 },
 "nbformat": 4,
 "nbformat_minor": 2
}
